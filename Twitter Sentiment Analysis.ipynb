{
 "cells": [
  {
   "cell_type": "code",
   "execution_count": 1,
   "id": "31dbfd78",
   "metadata": {},
   "outputs": [],
   "source": [
    "#Importing Libraries\n",
    "import numpy as np\n",
    "import pandas as pd\n",
    "import warnings\n",
    "warnings.filterwarnings('ignore')"
   ]
  },
  {
   "cell_type": "code",
   "execution_count": 2,
   "id": "d47fa4dc",
   "metadata": {},
   "outputs": [],
   "source": [
    "df=pd.read_csv(r\"C:\\Users\\Lenovo\\Downloads\\NLP.csv\")"
   ]
  },
  {
   "cell_type": "code",
   "execution_count": 3,
   "id": "70a7add1",
   "metadata": {},
   "outputs": [
    {
     "data": {
      "text/html": [
       "<div>\n",
       "<style scoped>\n",
       "    .dataframe tbody tr th:only-of-type {\n",
       "        vertical-align: middle;\n",
       "    }\n",
       "\n",
       "    .dataframe tbody tr th {\n",
       "        vertical-align: top;\n",
       "    }\n",
       "\n",
       "    .dataframe thead th {\n",
       "        text-align: right;\n",
       "    }\n",
       "</style>\n",
       "<table border=\"1\" class=\"dataframe\">\n",
       "  <thead>\n",
       "    <tr style=\"text-align: right;\">\n",
       "      <th></th>\n",
       "      <th>Unnamed: 0</th>\n",
       "      <th>tweet_author</th>\n",
       "      <th>tweet_text</th>\n",
       "    </tr>\n",
       "  </thead>\n",
       "  <tbody>\n",
       "    <tr>\n",
       "      <th>0</th>\n",
       "      <td>2013-07-18 09:39:46.071961602</td>\n",
       "      <td>Hematopoiesis News</td>\n",
       "      <td>⚕️ Scientists conducted a Phase II study of ac...</td>\n",
       "    </tr>\n",
       "    <tr>\n",
       "      <th>1</th>\n",
       "      <td>2013-07-17 03:40:32.173842437</td>\n",
       "      <td>Michael Wang, MD</td>\n",
       "      <td>This phase 2 Acalabrutinib-Venetoclax (AV) tri...</td>\n",
       "    </tr>\n",
       "    <tr>\n",
       "      <th>2</th>\n",
       "      <td>2013-07-15 15:41:16.553048065</td>\n",
       "      <td>1stOncology</td>\n",
       "      <td>#NICE backs #AstraZenecas #Calquence for #CLL ...</td>\n",
       "    </tr>\n",
       "    <tr>\n",
       "      <th>3</th>\n",
       "      <td>2013-07-12 19:19:42.367813635</td>\n",
       "      <td>Toby Eyre</td>\n",
       "      <td>#acalabrutinib is a valuable option in pts int...</td>\n",
       "    </tr>\n",
       "    <tr>\n",
       "      <th>4</th>\n",
       "      <td>2013-07-04 12:40:34.334232586</td>\n",
       "      <td>Lymphoma Hub</td>\n",
       "      <td>NICE has recommended the use of acalabrutinib ...</td>\n",
       "    </tr>\n",
       "  </tbody>\n",
       "</table>\n",
       "</div>"
      ],
      "text/plain": [
       "                      Unnamed: 0        tweet_author  \\\n",
       "0  2013-07-18 09:39:46.071961602  Hematopoiesis News   \n",
       "1  2013-07-17 03:40:32.173842437    Michael Wang, MD   \n",
       "2  2013-07-15 15:41:16.553048065         1stOncology   \n",
       "3  2013-07-12 19:19:42.367813635           Toby Eyre   \n",
       "4  2013-07-04 12:40:34.334232586        Lymphoma Hub   \n",
       "\n",
       "                                          tweet_text  \n",
       "0  ⚕️ Scientists conducted a Phase II study of ac...  \n",
       "1  This phase 2 Acalabrutinib-Venetoclax (AV) tri...  \n",
       "2  #NICE backs #AstraZenecas #Calquence for #CLL ...  \n",
       "3  #acalabrutinib is a valuable option in pts int...  \n",
       "4  NICE has recommended the use of acalabrutinib ...  "
      ]
     },
     "execution_count": 3,
     "metadata": {},
     "output_type": "execute_result"
    }
   ],
   "source": [
    "df.head()"
   ]
  },
  {
   "cell_type": "code",
   "execution_count": 4,
   "id": "dc8fff1d",
   "metadata": {},
   "outputs": [
    {
     "data": {
      "text/html": [
       "<div>\n",
       "<style scoped>\n",
       "    .dataframe tbody tr th:only-of-type {\n",
       "        vertical-align: middle;\n",
       "    }\n",
       "\n",
       "    .dataframe tbody tr th {\n",
       "        vertical-align: top;\n",
       "    }\n",
       "\n",
       "    .dataframe thead th {\n",
       "        text-align: right;\n",
       "    }\n",
       "</style>\n",
       "<table border=\"1\" class=\"dataframe\">\n",
       "  <thead>\n",
       "    <tr style=\"text-align: right;\">\n",
       "      <th></th>\n",
       "      <th>Unnamed: 0</th>\n",
       "      <th>tweet_author</th>\n",
       "      <th>tweet_text</th>\n",
       "    </tr>\n",
       "  </thead>\n",
       "  <tbody>\n",
       "    <tr>\n",
       "      <th>0</th>\n",
       "      <td>2013-07-18 09:39:46.071961602</td>\n",
       "      <td>Hematopoiesis News</td>\n",
       "      <td>⚕️ Scientists conducted a Phase II study of acalabrutinib in patients with relapsed/refractory #CLL who were ibrutinib-intolerant, and found an overall response rate of 73%. \\nhttps://t.co/eJ6m4Qp...</td>\n",
       "    </tr>\n",
       "    <tr>\n",
       "      <th>1</th>\n",
       "      <td>2013-07-17 03:40:32.173842437</td>\n",
       "      <td>Michael Wang, MD</td>\n",
       "      <td>This phase 2 Acalabrutinib-Venetoclax (AV) trial that is still in recruitment phase will study how well venetoclax and acalabrutinib works in MCL patients who either relapsed or non-respondent to ...</td>\n",
       "    </tr>\n",
       "    <tr>\n",
       "      <th>2</th>\n",
       "      <td>2013-07-15 15:41:16.553048065</td>\n",
       "      <td>1stOncology</td>\n",
       "      <td>#NICE backs #AstraZenecas #Calquence for #CLL https://t.co/Vb5lPDoGrA</td>\n",
       "    </tr>\n",
       "    <tr>\n",
       "      <th>3</th>\n",
       "      <td>2013-07-12 19:19:42.367813635</td>\n",
       "      <td>Toby Eyre</td>\n",
       "      <td>#acalabrutinib is a valuable option in pts intolerant to #ibrutinib. Further valuable data to help decision making in #CLL \\n\\nEarly View | Haematologica https://t.co/Z2kCLZaX0D</td>\n",
       "    </tr>\n",
       "    <tr>\n",
       "      <th>4</th>\n",
       "      <td>2013-07-04 12:40:34.334232586</td>\n",
       "      <td>Lymphoma Hub</td>\n",
       "      <td>NICE has recommended the use of acalabrutinib for patients with treatment-naïve chronic lymphocytic leukemia. Find out more here https://t.co/6OuJptLCIN #lymsm #lymphoma</td>\n",
       "    </tr>\n",
       "  </tbody>\n",
       "</table>\n",
       "</div>"
      ],
      "text/plain": [
       "                      Unnamed: 0        tweet_author  \\\n",
       "0  2013-07-18 09:39:46.071961602  Hematopoiesis News   \n",
       "1  2013-07-17 03:40:32.173842437    Michael Wang, MD   \n",
       "2  2013-07-15 15:41:16.553048065         1stOncology   \n",
       "3  2013-07-12 19:19:42.367813635           Toby Eyre   \n",
       "4  2013-07-04 12:40:34.334232586        Lymphoma Hub   \n",
       "\n",
       "                                                                                                                                                                                                tweet_text  \n",
       "0  ⚕️ Scientists conducted a Phase II study of acalabrutinib in patients with relapsed/refractory #CLL who were ibrutinib-intolerant, and found an overall response rate of 73%. \\nhttps://t.co/eJ6m4Qp...  \n",
       "1  This phase 2 Acalabrutinib-Venetoclax (AV) trial that is still in recruitment phase will study how well venetoclax and acalabrutinib works in MCL patients who either relapsed or non-respondent to ...  \n",
       "2                                                                                                                                    #NICE backs #AstraZenecas #Calquence for #CLL https://t.co/Vb5lPDoGrA  \n",
       "3                        #acalabrutinib is a valuable option in pts intolerant to #ibrutinib. Further valuable data to help decision making in #CLL \\n\\nEarly View | Haematologica https://t.co/Z2kCLZaX0D  \n",
       "4                                NICE has recommended the use of acalabrutinib for patients with treatment-naïve chronic lymphocytic leukemia. Find out more here https://t.co/6OuJptLCIN #lymsm #lymphoma  "
      ]
     },
     "execution_count": 4,
     "metadata": {},
     "output_type": "execute_result"
    }
   ],
   "source": [
    "# Setting column width\n",
    "pd.options.display.max_colwidth=200\n",
    "df.head()"
   ]
  },
  {
   "cell_type": "markdown",
   "id": "b3b316cc",
   "metadata": {},
   "source": [
    "# Text Cleaning\n"
   ]
  },
  {
   "cell_type": "code",
   "execution_count": 5,
   "id": "112a4e7b",
   "metadata": {},
   "outputs": [],
   "source": [
    "# stop words\n",
    "import nltk"
   ]
  },
  {
   "cell_type": "code",
   "execution_count": 6,
   "id": "9a889188",
   "metadata": {},
   "outputs": [
    {
     "name": "stderr",
     "output_type": "stream",
     "text": [
      "[nltk_data] Downloading package stopwords to\n",
      "[nltk_data]     C:\\Users\\Lenovo\\AppData\\Roaming\\nltk_data...\n",
      "[nltk_data]   Package stopwords is already up-to-date!\n"
     ]
    },
    {
     "data": {
      "text/plain": [
       "True"
      ]
     },
     "execution_count": 6,
     "metadata": {},
     "output_type": "execute_result"
    }
   ],
   "source": [
    "nltk.download('stopwords')"
   ]
  },
  {
   "cell_type": "code",
   "execution_count": 7,
   "id": "68d51449",
   "metadata": {},
   "outputs": [],
   "source": [
    "from nltk.corpus import stopwords"
   ]
  },
  {
   "cell_type": "code",
   "execution_count": 8,
   "id": "c562e241",
   "metadata": {},
   "outputs": [],
   "source": [
    "# changing the text into lower cases\n",
    "def lowr(x):\n",
    "    y=x.lower()\n",
    "    return y"
   ]
  },
  {
   "cell_type": "code",
   "execution_count": 9,
   "id": "fa6c8777",
   "metadata": {},
   "outputs": [],
   "source": [
    "df.tweet_text=df.tweet_text.apply(lowr)"
   ]
  },
  {
   "cell_type": "code",
   "execution_count": 10,
   "id": "d81ef1e0",
   "metadata": {},
   "outputs": [],
   "source": [
    "# removing mentions \n",
    "import re"
   ]
  },
  {
   "cell_type": "code",
   "execution_count": 11,
   "id": "4329975a",
   "metadata": {},
   "outputs": [],
   "source": [
    "def mention(x):\n",
    "    y=re.sub(r'@/S+','',x)\n",
    "    return y"
   ]
  },
  {
   "cell_type": "code",
   "execution_count": 12,
   "id": "4dc8808c",
   "metadata": {},
   "outputs": [],
   "source": [
    "df.tweet_text=df.tweet_text.apply(mention)"
   ]
  },
  {
   "cell_type": "code",
   "execution_count": 13,
   "id": "fcf8ced9",
   "metadata": {},
   "outputs": [],
   "source": [
    "# removing hyperlinks\n",
    "def hyperlinks(x):\n",
    "    text=re.sub(r\"\\S*https?:\\S*\",'',x)\n",
    "    return text"
   ]
  },
  {
   "cell_type": "code",
   "execution_count": 14,
   "id": "e694b540",
   "metadata": {},
   "outputs": [],
   "source": [
    "df.tweet_text=df.tweet_text.apply(hyperlinks)"
   ]
  },
  {
   "cell_type": "code",
   "execution_count": 15,
   "id": "da57df1d",
   "metadata": {},
   "outputs": [],
   "source": [
    "# removing special character\n",
    "def remove_special_characters(text, remove_digits=True):\n",
    "    pattern = r'[^a-zA-z0-9\\s]' if not remove_digits else r'[^a-zA-z\\s]'\n",
    "    text = re.sub(pattern, '', text)\n",
    "    return text"
   ]
  },
  {
   "cell_type": "code",
   "execution_count": 16,
   "id": "9ff887f8",
   "metadata": {},
   "outputs": [],
   "source": [
    "df.tweet_text=df.tweet_text.apply(remove_special_characters)"
   ]
  },
  {
   "cell_type": "code",
   "execution_count": 17,
   "id": "1e0ff866",
   "metadata": {},
   "outputs": [],
   "source": [
    "#removing stop words\n",
    "from nltk.tokenize.toktok import ToktokTokenizer"
   ]
  },
  {
   "cell_type": "code",
   "execution_count": 18,
   "id": "68bb8e47",
   "metadata": {},
   "outputs": [],
   "source": [
    "t=ToktokTokenizer()"
   ]
  },
  {
   "cell_type": "code",
   "execution_count": 19,
   "id": "86652ad3",
   "metadata": {},
   "outputs": [],
   "source": [
    "stpwrd=stopwords.words('english')"
   ]
  },
  {
   "cell_type": "code",
   "execution_count": 20,
   "id": "3124f13b",
   "metadata": {},
   "outputs": [],
   "source": [
    "def stop_words(x):\n",
    "    t1=t.tokenize(x)\n",
    "    token=[i.strip() for i in t1 ]\n",
    "    filtered_text=[i for i in token if i not in stpwrd]\n",
    "    joining=' '.join(filtered_text)\n",
    "    return joining"
   ]
  },
  {
   "cell_type": "code",
   "execution_count": 21,
   "id": "53ac784c",
   "metadata": {},
   "outputs": [],
   "source": [
    "df.tweet_text=df.tweet_text.apply(stop_words)"
   ]
  },
  {
   "cell_type": "code",
   "execution_count": 22,
   "id": "fb68b5de",
   "metadata": {},
   "outputs": [
    {
     "name": "stderr",
     "output_type": "stream",
     "text": [
      "[nltk_data] Downloading package wordnet to\n",
      "[nltk_data]     C:\\Users\\Lenovo\\AppData\\Roaming\\nltk_data...\n",
      "[nltk_data]   Package wordnet is already up-to-date!\n"
     ]
    }
   ],
   "source": [
    "#Lemmatizatiion\n",
    "nltk.download('wordnet')\n",
    "from nltk.stem import WordNetLemmatizer"
   ]
  },
  {
   "cell_type": "code",
   "execution_count": 23,
   "id": "e4829cdc",
   "metadata": {},
   "outputs": [],
   "source": [
    "l=WordNetLemmatizer()"
   ]
  },
  {
   "cell_type": "code",
   "execution_count": 24,
   "id": "72b8bcf6",
   "metadata": {},
   "outputs": [],
   "source": [
    "def lemmatiz(x):\n",
    "    t1=t.tokenize(x)\n",
    "    token=[i.strip() for i in t1 ]\n",
    "    filtered_text=[l.lemmatize(i) for i in token]\n",
    "    joining=' '.join(filtered_text)\n",
    "    return joining"
   ]
  },
  {
   "cell_type": "code",
   "execution_count": 25,
   "id": "92ebaaea",
   "metadata": {},
   "outputs": [],
   "source": [
    "df.tweet_text=df.tweet_text.apply(lemmatiz)"
   ]
  },
  {
   "cell_type": "raw",
   "id": "df2fc01b",
   "metadata": {},
   "source": [
    "# Stemming\n",
    "from nltk.stem import PorterStemmer"
   ]
  },
  {
   "cell_type": "raw",
   "id": "f9f06975",
   "metadata": {},
   "source": [
    "ps=PorterStemmer()"
   ]
  },
  {
   "cell_type": "raw",
   "id": "565a64a8",
   "metadata": {},
   "source": [
    "ps.stem(df.tweet_text[0])"
   ]
  },
  {
   "cell_type": "raw",
   "id": "c3fcddac",
   "metadata": {},
   "source": [
    "for i in df.tweet_text[0].split():\n",
    "    print(ps.stem(i))"
   ]
  },
  {
   "cell_type": "code",
   "execution_count": 26,
   "id": "84c0936e",
   "metadata": {},
   "outputs": [],
   "source": [
    "# sentimental score\n"
   ]
  },
  {
   "cell_type": "code",
   "execution_count": 27,
   "id": "4acee13d",
   "metadata": {},
   "outputs": [
    {
     "name": "stdout",
     "output_type": "stream",
     "text": [
      "Requirement already satisfied: afinn in c:\\users\\lenovo\\anaconda3\\lib\\site-packages (0.1)\n",
      "Note: you may need to restart the kernel to use updated packages.\n"
     ]
    }
   ],
   "source": [
    "pip install afinn"
   ]
  },
  {
   "cell_type": "code",
   "execution_count": 28,
   "id": "043a0eee",
   "metadata": {},
   "outputs": [],
   "source": [
    "from afinn import Afinn"
   ]
  },
  {
   "cell_type": "code",
   "execution_count": 29,
   "id": "76efae73",
   "metadata": {},
   "outputs": [],
   "source": [
    "a=Afinn()"
   ]
  },
  {
   "cell_type": "code",
   "execution_count": 30,
   "id": "0237e67b",
   "metadata": {},
   "outputs": [],
   "source": [
    "def afin(x):\n",
    "    return a.score(x)"
   ]
  },
  {
   "cell_type": "code",
   "execution_count": 31,
   "id": "2eed22e8",
   "metadata": {},
   "outputs": [],
   "source": [
    "df['Score']=df.tweet_text.apply(afin)"
   ]
  },
  {
   "cell_type": "code",
   "execution_count": 32,
   "id": "dca5427c",
   "metadata": {},
   "outputs": [
    {
     "data": {
      "text/plain": [
       "(43347, 4)"
      ]
     },
     "execution_count": 32,
     "metadata": {},
     "output_type": "execute_result"
    }
   ],
   "source": [
    "df.shape"
   ]
  },
  {
   "cell_type": "code",
   "execution_count": 33,
   "id": "0499659e",
   "metadata": {},
   "outputs": [],
   "source": [
    "#positive negative score\n",
    "df.Score=['Negative' if i<0 else 'Positive' for i in df.Score]"
   ]
  },
  {
   "cell_type": "code",
   "execution_count": 34,
   "id": "bdabfea2",
   "metadata": {},
   "outputs": [
    {
     "data": {
      "text/plain": [
       "Positive    0.856807\n",
       "Negative    0.143193\n",
       "Name: Score, dtype: float64"
      ]
     },
     "execution_count": 34,
     "metadata": {},
     "output_type": "execute_result"
    }
   ],
   "source": [
    "df.Score.value_counts([0])"
   ]
  },
  {
   "cell_type": "markdown",
   "id": "30e0d477",
   "metadata": {},
   "source": [
    "* 14.31% tweets are negative and rest are positive."
   ]
  }
 ],
 "metadata": {
  "kernelspec": {
   "display_name": "Python 3 (ipykernel)",
   "language": "python",
   "name": "python3"
  },
  "language_info": {
   "codemirror_mode": {
    "name": "ipython",
    "version": 3
   },
   "file_extension": ".py",
   "mimetype": "text/x-python",
   "name": "python",
   "nbconvert_exporter": "python",
   "pygments_lexer": "ipython3",
   "version": "3.9.7"
  }
 },
 "nbformat": 4,
 "nbformat_minor": 5
}
